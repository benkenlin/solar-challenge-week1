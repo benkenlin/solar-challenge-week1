{
 "cells": [
  {
   "cell_type": "code",
   "execution_count": 1,
   "id": "07ed5e56",
   "metadata": {},
   "outputs": [],
   "source": [
    "import pandas as pd\n",
    "import requests\n",
    "import seaborn as sns\n",
    "import matplotlib.pyplot as plt\n",
    "import plotly.express as px"
   ]
  },
  {
   "cell_type": "code",
   "execution_count": 3,
   "id": "b03324d7",
   "metadata": {},
   "outputs": [],
   "source": [
    "def load_data(source:str):\n",
    "    if source == \"local\":\n",
    "        df = pd.read_csv(\"r'C:\\\\Users\\\\benke\\\\Desktop\\\\DataScience\\\\10Academy\\\\Kefiya_AI_Mastery\\\\Week0\\\\data\\\\data\\\\benin-malanville.csv\")\n",
    "        df['Timestamp'] = pd.to_datetime(df['Timestamp'])\n",
    "        return df\n",
    "    else:\n",
    "        raise ValueError(\"Invalid data source\")"
   ]
  },
  {
   "cell_type": "code",
   "execution_count": 4,
   "id": "4fd2a6ec",
   "metadata": {},
   "outputs": [],
   "source": [
    "def summary_stats(df):\n",
    "    return df.describe()\n",
    "\n",
    "def filter_data(df, threshold):\n",
    "    df['processed_column'] = pd.to_numeric(df['GHI']*0.1, errors='coerce')\n",
    "    return df[df['processed_column'] < threshold]"
   ]
  },
  {
   "cell_type": "code",
   "execution_count": null,
   "id": "512968aa",
   "metadata": {},
   "outputs": [],
   "source": []
  }
 ],
 "metadata": {
  "kernelspec": {
   "display_name": "Python 3 (ipykernel)",
   "language": "python",
   "name": "python3"
  },
  "language_info": {
   "codemirror_mode": {
    "name": "ipython",
    "version": 3
   },
   "file_extension": ".py",
   "mimetype": "text/x-python",
   "name": "python",
   "nbconvert_exporter": "python",
   "pygments_lexer": "ipython3",
   "version": "3.11.5"
  }
 },
 "nbformat": 4,
 "nbformat_minor": 5
}
